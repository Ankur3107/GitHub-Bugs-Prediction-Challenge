{
 "cells": [
  {
   "cell_type": "markdown",
   "metadata": {
    "papermill": {
     "duration": 0.017361,
     "end_time": "2020-10-09T00:12:17.856262",
     "exception": false,
     "start_time": "2020-10-09T00:12:17.838901",
     "status": "completed"
    },
    "tags": []
   },
   "source": [
    "## Set-up Configuration"
   ]
  },
  {
   "cell_type": "code",
   "execution_count": 1,
   "metadata": {
    "_cell_guid": "b1076dfc-b9ad-4769-8c92-a6c4dae69d19",
    "_uuid": "8f2839f25d086af736a60e9eeb907d3b93b6e0e5",
    "execution": {
     "iopub.execute_input": "2020-10-09T00:12:17.902212Z",
     "iopub.status.busy": "2020-10-09T00:12:17.895140Z",
     "iopub.status.idle": "2020-10-09T00:12:32.328701Z",
     "shell.execute_reply": "2020-10-09T00:12:32.327596Z"
    },
    "papermill": {
     "duration": 14.457524,
     "end_time": "2020-10-09T00:12:32.328902",
     "exception": false,
     "start_time": "2020-10-09T00:12:17.871378",
     "status": "completed"
    },
    "tags": []
   },
   "outputs": [
    {
     "name": "stderr",
     "output_type": "stream",
     "text": [
      "\u001b[34m\u001b[1mwandb\u001b[0m: \u001b[33mWARNING\u001b[0m W&B installed but not logged in.  Run `wandb login` or set the WANDB_API_KEY env variable.\n"
     ]
    },
    {
     "name": "stdout",
     "output_type": "stream",
     "text": [
      "Running on TPU  grpc://10.0.0.2:8470\n",
      "REPLICAS:  8\n"
     ]
    }
   ],
   "source": [
    "from dataclasses import dataclass\n",
    "import numpy as np\n",
    "import pandas as pd\n",
    "import tensorflow as tf\n",
    "from tensorflow.keras.optimizers import Adam\n",
    "from transformers import TFAutoModelWithLMHead, AutoTokenizer\n",
    "from transformers import pipeline\n",
    "from pprint import pprint\n",
    "from transformers import *\n",
    "\n",
    "\n",
    "@dataclass\n",
    "class Config:\n",
    "    MAX_LEN = 320\n",
    "    BATCH_SIZE = 16  # per TPU core\n",
    "    TOTAL_STEPS = 2000  # thats approx 4 epochs\n",
    "    EVALUATE_EVERY = 200\n",
    "    LR = 1e-5\n",
    "    PRETRAINED_MODEL = \"bert-base-uncased\" # huggingface bert model \n",
    "\n",
    "\n",
    "flags = Config()\n",
    "AUTO = tf.data.experimental.AUTOTUNE\n",
    "\n",
    "\n",
    "\"\"\"\n",
    "## Set-up TPU Runtime\n",
    "\"\"\"\n",
    "\n",
    "\n",
    "def connect_to_TPU():\n",
    "    \"\"\"Detect hardware, return appropriate distribution strategy\"\"\"\n",
    "    try:\n",
    "        # TPU detection. No parameters necessary if TPU_NAME environment variable is\n",
    "        # set: this is always the case on Kaggle.\n",
    "        tpu = tf.distribute.cluster_resolver.TPUClusterResolver()\n",
    "        print(\"Running on TPU \", tpu.master())\n",
    "    except ValueError:\n",
    "        tpu = None\n",
    "\n",
    "    if tpu:\n",
    "        tf.config.experimental_connect_to_cluster(tpu)\n",
    "        tf.tpu.experimental.initialize_tpu_system(tpu)\n",
    "        strategy = tf.distribute.experimental.TPUStrategy(tpu)\n",
    "    else:\n",
    "        # Default distribution strategy in Tensorflow. Works on CPU and single GPU.\n",
    "        strategy = tf.distribute.get_strategy()\n",
    "\n",
    "    global_batch_size = flags.BATCH_SIZE * strategy.num_replicas_in_sync\n",
    "\n",
    "    return tpu, strategy, global_batch_size\n",
    "\n",
    "\n",
    "tpu, strategy, global_batch_size = connect_to_TPU()\n",
    "print(\"REPLICAS: \", strategy.num_replicas_in_sync)"
   ]
  },
  {
   "cell_type": "markdown",
   "metadata": {
    "papermill": {
     "duration": 0.017782,
     "end_time": "2020-10-09T00:12:32.366165",
     "exception": false,
     "start_time": "2020-10-09T00:12:32.348383",
     "status": "completed"
    },
    "tags": []
   },
   "source": [
    "## Load Data"
   ]
  },
  {
   "cell_type": "code",
   "execution_count": 2,
   "metadata": {
    "_cell_guid": "79c7e3d0-c299-4dcb-8224-4455121ee9b0",
    "_uuid": "d629ff2d2480ee46fbb7e2d37f6b5fab8052498a",
    "execution": {
     "iopub.execute_input": "2020-10-09T00:12:32.408769Z",
     "iopub.status.busy": "2020-10-09T00:12:32.407759Z",
     "iopub.status.idle": "2020-10-09T00:12:49.653205Z",
     "shell.execute_reply": "2020-10-09T00:12:49.652508Z"
    },
    "papermill": {
     "duration": 17.270899,
     "end_time": "2020-10-09T00:12:49.653364",
     "exception": false,
     "start_time": "2020-10-09T00:12:32.382465",
     "status": "completed"
    },
    "tags": []
   },
   "outputs": [
    {
     "name": "stdout",
     "output_type": "stream",
     "text": [
      "--2020-10-09 00:12:33--  https://machinehack-be.s3.amazonaws.com/predict_github_issues_embold_sponsored_hackathon/Embold_Participant%27s_Dataset.zip\r\n",
      "Resolving machinehack-be.s3.amazonaws.com (machinehack-be.s3.amazonaws.com)... 52.219.64.40\r\n",
      "Connecting to machinehack-be.s3.amazonaws.com (machinehack-be.s3.amazonaws.com)|52.219.64.40|:443... connected.\r\n",
      "HTTP request sent, awaiting response... 200 OK\r\n",
      "Length: 102320961 (98M) [application/octet-stream]\r\n",
      "Saving to: ‘Embold_Participant's_Dataset.zip’\r\n",
      "\r\n",
      "Embold_Participant' 100%[===================>]  97.58M  10.2MB/s    in 11s     \r\n",
      "\r\n",
      "2020-10-09 00:12:45 (8.83 MB/s) - ‘Embold_Participant's_Dataset.zip’ saved [102320961/102320961]\r\n",
      "\r\n",
      "Archive:  ./Embold_Participant's_Dataset.zip\r\n",
      "   creating: Dataset/Embold_Participant's_Dataset/\r\n",
      "  inflating: Dataset/Embold_Participant's_Dataset/sample submission.csv  \r\n",
      "  inflating: Dataset/__MACOSX/Embold_Participant's_Dataset/._sample submission.csv  \r\n",
      "  inflating: Dataset/Embold_Participant's_Dataset/embold_train_extra.json  \r\n",
      "  inflating: Dataset/__MACOSX/Embold_Participant's_Dataset/._embold_train_extra.json  \r\n",
      "  inflating: Dataset/Embold_Participant's_Dataset/embold_test.json  \r\n",
      "  inflating: Dataset/__MACOSX/Embold_Participant's_Dataset/._embold_test.json  \r\n",
      "  inflating: Dataset/Embold_Participant's_Dataset/embold_train.json  \r\n",
      "  inflating: Dataset/__MACOSX/Embold_Participant's_Dataset/._embold_train.json  \r\n"
     ]
    }
   ],
   "source": [
    "\n",
    "\n",
    "!wget https://machinehack-be.s3.amazonaws.com/predict_github_issues_embold_sponsored_hackathon/Embold_Participant%27s_Dataset.zip\n",
    "!unzip ./Embold_Participant\\'s_Dataset.zip -d Dataset\n"
   ]
  },
  {
   "cell_type": "code",
   "execution_count": 3,
   "metadata": {
    "execution": {
     "iopub.execute_input": "2020-10-09T00:12:49.739191Z",
     "iopub.status.busy": "2020-10-09T00:12:49.738411Z",
     "iopub.status.idle": "2020-10-09T00:12:49.743444Z",
     "shell.execute_reply": "2020-10-09T00:12:49.742767Z"
    },
    "papermill": {
     "duration": 0.051745,
     "end_time": "2020-10-09T00:12:49.743578",
     "exception": false,
     "start_time": "2020-10-09T00:12:49.691833",
     "status": "completed"
    },
    "tags": []
   },
   "outputs": [
    {
     "name": "stdout",
     "output_type": "stream",
     "text": [
      "/kaggle/working/Dataset/Embold_Participant's_Dataset\n"
     ]
    }
   ],
   "source": [
    "cd \"Dataset/Embold_Participant's_Dataset/\""
   ]
  },
  {
   "cell_type": "code",
   "execution_count": 4,
   "metadata": {
    "execution": {
     "iopub.execute_input": "2020-10-09T00:12:49.833968Z",
     "iopub.status.busy": "2020-10-09T00:12:49.832957Z",
     "iopub.status.idle": "2020-10-09T00:12:54.958540Z",
     "shell.execute_reply": "2020-10-09T00:12:54.957883Z"
    },
    "papermill": {
     "duration": 5.173693,
     "end_time": "2020-10-09T00:12:54.958682",
     "exception": false,
     "start_time": "2020-10-09T00:12:49.784989",
     "status": "completed"
    },
    "tags": []
   },
   "outputs": [],
   "source": [
    "\n",
    "train_df = pd.read_json(\"embold_train.json\").reset_index(drop=True)\n",
    "test_df = pd.read_json(\"embold_test.json\").reset_index(drop=True)\n",
    "train_ex_df = pd.read_json(\"embold_train_extra.json\")\n",
    "train_data = train_df.append(train_ex_df)\n",
    "test_df['text'] = test_df['title']+' '+test_df['body']\n",
    "train_data['text'] = train_data['title']+' '+train_data['body']\n",
    "\n",
    "data = train_data[['text']].append(test_df[['text']])\n"
   ]
  },
  {
   "cell_type": "code",
   "execution_count": 5,
   "metadata": {
    "execution": {
     "iopub.execute_input": "2020-10-09T00:12:55.046331Z",
     "iopub.status.busy": "2020-10-09T00:12:55.045364Z",
     "iopub.status.idle": "2020-10-09T00:12:55.050661Z",
     "shell.execute_reply": "2020-10-09T00:12:55.050029Z"
    },
    "papermill": {
     "duration": 0.052594,
     "end_time": "2020-10-09T00:12:55.050794",
     "exception": false,
     "start_time": "2020-10-09T00:12:54.998200",
     "status": "completed"
    },
    "tags": []
   },
   "outputs": [
    {
     "data": {
      "text/plain": [
       "pandas.core.frame.DataFrame"
      ]
     },
     "execution_count": 5,
     "metadata": {},
     "output_type": "execute_result"
    }
   ],
   "source": [
    "type(data)"
   ]
  },
  {
   "cell_type": "code",
   "execution_count": 6,
   "metadata": {
    "execution": {
     "iopub.execute_input": "2020-10-09T00:12:55.136674Z",
     "iopub.status.busy": "2020-10-09T00:12:55.135882Z",
     "iopub.status.idle": "2020-10-09T00:12:55.197373Z",
     "shell.execute_reply": "2020-10-09T00:12:55.196598Z"
    },
    "papermill": {
     "duration": 0.106547,
     "end_time": "2020-10-09T00:12:55.197515",
     "exception": false,
     "start_time": "2020-10-09T00:12:55.090968",
     "status": "completed"
    },
    "tags": []
   },
   "outputs": [],
   "source": [
    "data = data.sample(200000)"
   ]
  },
  {
   "cell_type": "code",
   "execution_count": 7,
   "metadata": {
    "execution": {
     "iopub.execute_input": "2020-10-09T00:12:55.295189Z",
     "iopub.status.busy": "2020-10-09T00:12:55.294190Z",
     "iopub.status.idle": "2020-10-09T00:12:55.303194Z",
     "shell.execute_reply": "2020-10-09T00:12:55.302341Z"
    },
    "papermill": {
     "duration": 0.065327,
     "end_time": "2020-10-09T00:12:55.303392",
     "exception": false,
     "start_time": "2020-10-09T00:12:55.238065",
     "status": "completed"
    },
    "tags": []
   },
   "outputs": [
    {
     "data": {
      "text/html": [
       "<div>\n",
       "<style scoped>\n",
       "    .dataframe tbody tr th:only-of-type {\n",
       "        vertical-align: middle;\n",
       "    }\n",
       "\n",
       "    .dataframe tbody tr th {\n",
       "        vertical-align: top;\n",
       "    }\n",
       "\n",
       "    .dataframe thead th {\n",
       "        text-align: right;\n",
       "    }\n",
       "</style>\n",
       "<table border=\"1\" class=\"dataframe\">\n",
       "  <thead>\n",
       "    <tr style=\"text-align: right;\">\n",
       "      <th></th>\n",
       "      <th>text</th>\n",
       "    </tr>\n",
       "  </thead>\n",
       "  <tbody>\n",
       "    <tr>\n",
       "      <th>19299</th>\n",
       "      <td>fix \\ rubocop/style/numericpredicate\\  issue i...</td>\n",
       "    </tr>\n",
       "    <tr>\n",
       "      <th>60511</th>\n",
       "      <td>xl: server crash during cp using aws cli  may ...</td>\n",
       "    </tr>\n",
       "    <tr>\n",
       "      <th>190768</th>\n",
       "      <td>cattle_forward chain gets reordered on docker ...</td>\n",
       "    </tr>\n",
       "    <tr>\n",
       "      <th>41751</th>\n",
       "      <td>--remote-name doesn't honor the filename after...</td>\n",
       "    </tr>\n",
       "    <tr>\n",
       "      <th>37986</th>\n",
       "      <td>add paging to all other pages  not just book l...</td>\n",
       "    </tr>\n",
       "  </tbody>\n",
       "</table>\n",
       "</div>"
      ],
      "text/plain": [
       "                                                     text\n",
       "19299   fix \\ rubocop/style/numericpredicate\\  issue i...\n",
       "60511   xl: server crash during cp using aws cli  may ...\n",
       "190768  cattle_forward chain gets reordered on docker ...\n",
       "41751   --remote-name doesn't honor the filename after...\n",
       "37986   add paging to all other pages  not just book l..."
      ]
     },
     "execution_count": 7,
     "metadata": {},
     "output_type": "execute_result"
    }
   ],
   "source": [
    "data.head()"
   ]
  },
  {
   "cell_type": "markdown",
   "metadata": {
    "papermill": {
     "duration": 0.040767,
     "end_time": "2020-10-09T00:12:55.385671",
     "exception": false,
     "start_time": "2020-10-09T00:12:55.344904",
     "status": "completed"
    },
    "tags": []
   },
   "source": [
    "## Prepare Masked Language Dataset"
   ]
  },
  {
   "cell_type": "code",
   "execution_count": 8,
   "metadata": {
    "execution": {
     "iopub.execute_input": "2020-10-09T00:12:55.483993Z",
     "iopub.status.busy": "2020-10-09T00:12:55.482864Z",
     "iopub.status.idle": "2020-10-09T00:14:10.949681Z",
     "shell.execute_reply": "2020-10-09T00:14:10.948984Z"
    },
    "papermill": {
     "duration": 75.523685,
     "end_time": "2020-10-09T00:14:10.949834",
     "exception": false,
     "start_time": "2020-10-09T00:12:55.426149",
     "status": "completed"
    },
    "tags": []
   },
   "outputs": [
    {
     "data": {
      "application/vnd.jupyter.widget-view+json": {
       "model_id": "522d26bcd52d42efa2fd8292b17934fb",
       "version_major": 2,
       "version_minor": 0
      },
      "text/plain": [
       "HBox(children=(FloatProgress(value=0.0, description='Downloading', max=231508.0, style=ProgressStyle(descripti…"
      ]
     },
     "metadata": {},
     "output_type": "display_data"
    },
    {
     "name": "stdout",
     "output_type": "stream",
     "text": [
      "\n"
     ]
    }
   ],
   "source": [
    "\n",
    "\n",
    "def regular_encode(texts, tokenizer, maxlen=512):\n",
    "    enc_di = tokenizer.batch_encode_plus(\n",
    "        texts, \n",
    "        return_attention_mask=False, \n",
    "        return_token_type_ids=False,\n",
    "        pad_to_max_length=True,\n",
    "        max_length=maxlen,\n",
    "        truncation=True\n",
    "    )\n",
    "    \n",
    "    return np.array(enc_di['input_ids'])\n",
    "\n",
    "tokenizer = BertTokenizerFast.from_pretrained(flags.PRETRAINED_MODEL)\n",
    "X_data = regular_encode(data.text.values.tolist(), tokenizer, maxlen=flags.MAX_LEN)\n",
    "\n",
    "\n",
    "def prepare_mlm_input_and_labels(X):\n",
    "    # 15% BERT masking\n",
    "    inp_mask = np.random.rand(*X.shape)<0.15 \n",
    "    # do not mask special tokens\n",
    "    inp_mask[X<=2] = False\n",
    "    # set targets to -1 by default, it means ignore\n",
    "    labels =  -1 * np.ones(X.shape, dtype=int)\n",
    "    # set labels for masked tokens\n",
    "    labels[inp_mask] = X[inp_mask]\n",
    "    \n",
    "    # prepare input\n",
    "    X_mlm = np.copy(X)\n",
    "    # set input to [MASK] which is the last token for the 90% of tokens\n",
    "    # this means leaving 10% unchanged\n",
    "    inp_mask_2mask = inp_mask  & (np.random.rand(*X.shape)<0.90)\n",
    "    X_mlm[inp_mask_2mask] = tokenizer.mask_token_id  # mask token is the last in the dict\n",
    "\n",
    "    # set 10% to a random token\n",
    "    inp_mask_2random = inp_mask_2mask  & (np.random.rand(*X.shape) < 1/9)\n",
    "    X_mlm[inp_mask_2random] = np.random.randint(3, tokenizer.mask_token_id, inp_mask_2random.sum())\n",
    "    \n",
    "    return X_mlm, labels\n",
    "\n",
    "\n",
    "# use validation and test data for mlm\n",
    "X_train_mlm = np.vstack(X_data)\n",
    "# masks and labels\n",
    "X_train_mlm, y_train_mlm = prepare_mlm_input_and_labels(X_train_mlm)"
   ]
  },
  {
   "cell_type": "code",
   "execution_count": 9,
   "metadata": {
    "execution": {
     "iopub.execute_input": "2020-10-09T00:14:11.053721Z",
     "iopub.status.busy": "2020-10-09T00:14:11.052599Z",
     "iopub.status.idle": "2020-10-09T00:14:11.059431Z",
     "shell.execute_reply": "2020-10-09T00:14:11.058813Z"
    },
    "papermill": {
     "duration": 0.063558,
     "end_time": "2020-10-09T00:14:11.059566",
     "exception": false,
     "start_time": "2020-10-09T00:14:10.996008",
     "status": "completed"
    },
    "tags": []
   },
   "outputs": [
    {
     "data": {
      "text/plain": [
       "((200000, 320), (200000, 320))"
      ]
     },
     "execution_count": 9,
     "metadata": {},
     "output_type": "execute_result"
    }
   ],
   "source": [
    "X_train_mlm.shape, y_train_mlm.shape"
   ]
  },
  {
   "cell_type": "markdown",
   "metadata": {
    "papermill": {
     "duration": 0.062171,
     "end_time": "2020-10-09T00:14:11.173934",
     "exception": false,
     "start_time": "2020-10-09T00:14:11.111763",
     "status": "completed"
    },
    "tags": []
   },
   "source": [
    "## Create MaskedLanguageModel using huggingface transformers"
   ]
  },
  {
   "cell_type": "code",
   "execution_count": 10,
   "metadata": {
    "execution": {
     "iopub.execute_input": "2020-10-09T00:14:11.295265Z",
     "iopub.status.busy": "2020-10-09T00:14:11.284965Z",
     "iopub.status.idle": "2020-10-09T00:14:53.276742Z",
     "shell.execute_reply": "2020-10-09T00:14:53.277369Z"
    },
    "papermill": {
     "duration": 42.054523,
     "end_time": "2020-10-09T00:14:53.277552",
     "exception": false,
     "start_time": "2020-10-09T00:14:11.223029",
     "status": "completed"
    },
    "tags": []
   },
   "outputs": [
    {
     "data": {
      "application/vnd.jupyter.widget-view+json": {
       "model_id": "055c013d95f345d4aba740510f0b3932",
       "version_major": 2,
       "version_minor": 0
      },
      "text/plain": [
       "HBox(children=(FloatProgress(value=0.0, description='Downloading', max=433.0, style=ProgressStyle(description_…"
      ]
     },
     "metadata": {},
     "output_type": "display_data"
    },
    {
     "name": "stdout",
     "output_type": "stream",
     "text": [
      "\n"
     ]
    },
    {
     "data": {
      "application/vnd.jupyter.widget-view+json": {
       "model_id": "aceae43f57d448eeb508c5a86a633de6",
       "version_major": 2,
       "version_minor": 0
      },
      "text/plain": [
       "HBox(children=(FloatProgress(value=0.0, description='Downloading', max=536063208.0, style=ProgressStyle(descri…"
      ]
     },
     "metadata": {},
     "output_type": "display_data"
    },
    {
     "name": "stdout",
     "output_type": "stream",
     "text": [
      "\n",
      "Model: \"masked_language_model\"\n",
      "_________________________________________________________________\n",
      "Layer (type)                 Output Shape              Param #   \n",
      "=================================================================\n",
      "input_1 (InputLayer)         [(None, 320)]             0         \n",
      "_________________________________________________________________\n",
      "tf_bert_for_masked_lm (TFBer ((None, 320, 30522),)     110104890 \n",
      "=================================================================\n",
      "Total params: 110,104,890\n",
      "Trainable params: 110,104,890\n",
      "Non-trainable params: 0\n",
      "_________________________________________________________________\n"
     ]
    }
   ],
   "source": [
    "\n",
    "def masked_sparse_categorical_crossentropy(y_true, y_pred):\n",
    "    y_true_masked = tf.boolean_mask(y_true, tf.not_equal(y_true, -1))\n",
    "    y_pred_masked = tf.boolean_mask(y_pred, tf.not_equal(y_true, -1))\n",
    "    loss = tf.keras.losses.sparse_categorical_crossentropy(\n",
    "        y_true_masked, y_pred_masked, from_logits=True\n",
    "    )\n",
    "    return loss\n",
    "\n",
    "class MaskedLanguageModel(tf.keras.Model):\n",
    "\n",
    "  def train_step(self, inputs):\n",
    "    features, labels = inputs\n",
    "\n",
    "    with tf.GradientTape() as tape:\n",
    "\n",
    "      predictions = self(features, training=True)[0]\n",
    "      loss = masked_sparse_categorical_crossentropy(labels, predictions)\n",
    "\n",
    "    # Compute gradients\n",
    "    trainable_vars = self.trainable_variables\n",
    "    gradients = tape.gradient(loss, trainable_vars)\n",
    "\n",
    "    # Update weights\n",
    "    self.optimizer.apply_gradients(zip(gradients, trainable_vars))\n",
    "\n",
    "    # Compute our own metrics\n",
    "    loss_tracker.update_state(loss)\n",
    "\n",
    "    # Return a dict mapping metric names to current value\n",
    "    return {\"loss\": loss_tracker.result()}\n",
    "\n",
    "with strategy.scope():\n",
    "  loss_tracker = tf.keras.metrics.Mean(name=\"loss\")\n",
    "  input_layer = tf.keras.layers.Input((flags.MAX_LEN, ), dtype=tf.int32)\n",
    "  bert_model = TFAutoModelWithLMHead.from_pretrained(flags.PRETRAINED_MODEL)\n",
    "  output_layer = bert_model(input_layer)\n",
    "  mlm_model = MaskedLanguageModel(input_layer, output_layer)\n",
    "\n",
    "  optimizer = tf.keras.optimizers.Adam(learning_rate=flags.LR)\n",
    "  mlm_model.compile(optimizer=optimizer)\n",
    "\n",
    "mlm_model.summary()"
   ]
  },
  {
   "cell_type": "markdown",
   "metadata": {
    "papermill": {
     "duration": 0.048898,
     "end_time": "2020-10-09T00:14:53.373793",
     "exception": false,
     "start_time": "2020-10-09T00:14:53.324895",
     "status": "completed"
    },
    "tags": []
   },
   "source": [
    "## Train and Save"
   ]
  },
  {
   "cell_type": "code",
   "execution_count": 11,
   "metadata": {
    "execution": {
     "iopub.execute_input": "2020-10-09T00:14:55.820594Z",
     "iopub.status.busy": "2020-10-09T00:14:55.819655Z",
     "iopub.status.idle": "2020-10-09T00:44:28.949872Z",
     "shell.execute_reply": "2020-10-09T00:44:28.949218Z"
    },
    "papermill": {
     "duration": 1775.526683,
     "end_time": "2020-10-09T00:44:28.950012",
     "exception": false,
     "start_time": "2020-10-09T00:14:53.423329",
     "status": "completed"
    },
    "tags": []
   },
   "outputs": [
    {
     "name": "stdout",
     "output_type": "stream",
     "text": [
      "Epoch 1/3\n",
      "1563/1563 [==============================] - 588s 376ms/step - loss: 2.3734\n",
      "Epoch 2/3\n",
      "1563/1563 [==============================] - 556s 355ms/step - loss: 2.1057\n",
      "Epoch 3/3\n",
      "1563/1563 [==============================] - 555s 355ms/step - loss: 2.0032\n"
     ]
    },
    {
     "data": {
      "text/plain": [
       "<tensorflow.python.keras.callbacks.History at 0x7f39b77998d0>"
      ]
     },
     "execution_count": 11,
     "metadata": {},
     "output_type": "execute_result"
    }
   ],
   "source": [
    "\n",
    "mlm_model.fit(X_train_mlm, y_train_mlm, epochs=3, batch_size=global_batch_size)\n"
   ]
  },
  {
   "cell_type": "code",
   "execution_count": 12,
   "metadata": {
    "execution": {
     "iopub.execute_input": "2020-10-09T00:44:33.033834Z",
     "iopub.status.busy": "2020-10-09T00:44:32.892008Z",
     "iopub.status.idle": "2020-10-09T00:44:33.889517Z",
     "shell.execute_reply": "2020-10-09T00:44:33.888775Z"
    },
    "papermill": {
     "duration": 3.035882,
     "end_time": "2020-10-09T00:44:33.889649",
     "exception": false,
     "start_time": "2020-10-09T00:44:30.853767",
     "status": "completed"
    },
    "tags": []
   },
   "outputs": [],
   "source": [
    "!mkdir github_bert_uncased"
   ]
  },
  {
   "cell_type": "code",
   "execution_count": 13,
   "metadata": {
    "execution": {
     "iopub.execute_input": "2020-10-09T00:44:37.769404Z",
     "iopub.status.busy": "2020-10-09T00:44:37.768112Z",
     "iopub.status.idle": "2020-10-09T00:44:40.359830Z",
     "shell.execute_reply": "2020-10-09T00:44:40.358728Z"
    },
    "papermill": {
     "duration": 4.55854,
     "end_time": "2020-10-09T00:44:40.360016",
     "exception": false,
     "start_time": "2020-10-09T00:44:35.801476",
     "status": "completed"
    },
    "tags": []
   },
   "outputs": [],
   "source": [
    "# Save trained model using transfomers .save_pretrained()\n",
    "bert_model.save_pretrained(\"./github_bert_uncased/\")"
   ]
  },
  {
   "cell_type": "code",
   "execution_count": 14,
   "metadata": {
    "execution": {
     "iopub.execute_input": "2020-10-09T00:44:44.311727Z",
     "iopub.status.busy": "2020-10-09T00:44:44.310848Z",
     "iopub.status.idle": "2020-10-09T00:44:45.235010Z",
     "shell.execute_reply": "2020-10-09T00:44:45.234333Z"
    },
    "papermill": {
     "duration": 2.884163,
     "end_time": "2020-10-09T00:44:45.235142",
     "exception": false,
     "start_time": "2020-10-09T00:44:42.350979",
     "status": "completed"
    },
    "tags": []
   },
   "outputs": [
    {
     "name": "stdout",
     "output_type": "stream",
     "text": [
      "config.json  tf_model.h5\r\n"
     ]
    }
   ],
   "source": [
    "!ls github_bert_uncased/"
   ]
  }
 ],
 "metadata": {
  "kernelspec": {
   "display_name": "Python 3",
   "language": "python",
   "name": "python3"
  },
  "language_info": {
   "codemirror_mode": {
    "name": "ipython",
    "version": 3
   },
   "file_extension": ".py",
   "mimetype": "text/x-python",
   "name": "python",
   "nbconvert_exporter": "python",
   "pygments_lexer": "ipython3",
   "version": "3.7.6"
  },
  "papermill": {
   "duration": 1954.870734,
   "end_time": "2020-10-09T00:44:47.626438",
   "environment_variables": {},
   "exception": null,
   "input_path": "__notebook__.ipynb",
   "output_path": "__notebook__.ipynb",
   "parameters": {},
   "start_time": "2020-10-09T00:12:12.755704",
   "version": "2.1.0"
  },
  "widgets": {
   "application/vnd.jupyter.widget-state+json": {
    "state": {
     "01bbb38e55c94814a29c63a1efb1c8f3": {
      "model_module": "@jupyter-widgets/base",
      "model_module_version": "1.2.0",
      "model_name": "LayoutModel",
      "state": {
       "_model_module": "@jupyter-widgets/base",
       "_model_module_version": "1.2.0",
       "_model_name": "LayoutModel",
       "_view_count": null,
       "_view_module": "@jupyter-widgets/base",
       "_view_module_version": "1.2.0",
       "_view_name": "LayoutView",
       "align_content": null,
       "align_items": null,
       "align_self": null,
       "border": null,
       "bottom": null,
       "display": null,
       "flex": null,
       "flex_flow": null,
       "grid_area": null,
       "grid_auto_columns": null,
       "grid_auto_flow": null,
       "grid_auto_rows": null,
       "grid_column": null,
       "grid_gap": null,
       "grid_row": null,
       "grid_template_areas": null,
       "grid_template_columns": null,
       "grid_template_rows": null,
       "height": null,
       "justify_content": null,
       "justify_items": null,
       "left": null,
       "margin": null,
       "max_height": null,
       "max_width": null,
       "min_height": null,
       "min_width": null,
       "object_fit": null,
       "object_position": null,
       "order": null,
       "overflow": null,
       "overflow_x": null,
       "overflow_y": null,
       "padding": null,
       "right": null,
       "top": null,
       "visibility": null,
       "width": null
      }
     },
     "055710b19f8a4748a57d635d9690a9c2": {
      "model_module": "@jupyter-widgets/base",
      "model_module_version": "1.2.0",
      "model_name": "LayoutModel",
      "state": {
       "_model_module": "@jupyter-widgets/base",
       "_model_module_version": "1.2.0",
       "_model_name": "LayoutModel",
       "_view_count": null,
       "_view_module": "@jupyter-widgets/base",
       "_view_module_version": "1.2.0",
       "_view_name": "LayoutView",
       "align_content": null,
       "align_items": null,
       "align_self": null,
       "border": null,
       "bottom": null,
       "display": null,
       "flex": null,
       "flex_flow": null,
       "grid_area": null,
       "grid_auto_columns": null,
       "grid_auto_flow": null,
       "grid_auto_rows": null,
       "grid_column": null,
       "grid_gap": null,
       "grid_row": null,
       "grid_template_areas": null,
       "grid_template_columns": null,
       "grid_template_rows": null,
       "height": null,
       "justify_content": null,
       "justify_items": null,
       "left": null,
       "margin": null,
       "max_height": null,
       "max_width": null,
       "min_height": null,
       "min_width": null,
       "object_fit": null,
       "object_position": null,
       "order": null,
       "overflow": null,
       "overflow_x": null,
       "overflow_y": null,
       "padding": null,
       "right": null,
       "top": null,
       "visibility": null,
       "width": null
      }
     },
     "055c013d95f345d4aba740510f0b3932": {
      "model_module": "@jupyter-widgets/controls",
      "model_module_version": "1.5.0",
      "model_name": "HBoxModel",
      "state": {
       "_dom_classes": [],
       "_model_module": "@jupyter-widgets/controls",
       "_model_module_version": "1.5.0",
       "_model_name": "HBoxModel",
       "_view_count": null,
       "_view_module": "@jupyter-widgets/controls",
       "_view_module_version": "1.5.0",
       "_view_name": "HBoxView",
       "box_style": "",
       "children": [
        "IPY_MODEL_987655d1aa3845428171c243d1b2696d",
        "IPY_MODEL_cba6c1e609644c43933f6168ed4eeabd"
       ],
       "layout": "IPY_MODEL_59ef493f007448ecbd9e32fec4501773"
      }
     },
     "11c203ae5f4a41ab8f22c899933c5700": {
      "model_module": "@jupyter-widgets/controls",
      "model_module_version": "1.5.0",
      "model_name": "ProgressStyleModel",
      "state": {
       "_model_module": "@jupyter-widgets/controls",
       "_model_module_version": "1.5.0",
       "_model_name": "ProgressStyleModel",
       "_view_count": null,
       "_view_module": "@jupyter-widgets/base",
       "_view_module_version": "1.2.0",
       "_view_name": "StyleView",
       "bar_color": null,
       "description_width": "initial"
      }
     },
     "12da670313474849b68e66f810f75ba8": {
      "model_module": "@jupyter-widgets/base",
      "model_module_version": "1.2.0",
      "model_name": "LayoutModel",
      "state": {
       "_model_module": "@jupyter-widgets/base",
       "_model_module_version": "1.2.0",
       "_model_name": "LayoutModel",
       "_view_count": null,
       "_view_module": "@jupyter-widgets/base",
       "_view_module_version": "1.2.0",
       "_view_name": "LayoutView",
       "align_content": null,
       "align_items": null,
       "align_self": null,
       "border": null,
       "bottom": null,
       "display": null,
       "flex": null,
       "flex_flow": null,
       "grid_area": null,
       "grid_auto_columns": null,
       "grid_auto_flow": null,
       "grid_auto_rows": null,
       "grid_column": null,
       "grid_gap": null,
       "grid_row": null,
       "grid_template_areas": null,
       "grid_template_columns": null,
       "grid_template_rows": null,
       "height": null,
       "justify_content": null,
       "justify_items": null,
       "left": null,
       "margin": null,
       "max_height": null,
       "max_width": null,
       "min_height": null,
       "min_width": null,
       "object_fit": null,
       "object_position": null,
       "order": null,
       "overflow": null,
       "overflow_x": null,
       "overflow_y": null,
       "padding": null,
       "right": null,
       "top": null,
       "visibility": null,
       "width": null
      }
     },
     "24fc74206b674d1982cb11c9e0d357da": {
      "model_module": "@jupyter-widgets/base",
      "model_module_version": "1.2.0",
      "model_name": "LayoutModel",
      "state": {
       "_model_module": "@jupyter-widgets/base",
       "_model_module_version": "1.2.0",
       "_model_name": "LayoutModel",
       "_view_count": null,
       "_view_module": "@jupyter-widgets/base",
       "_view_module_version": "1.2.0",
       "_view_name": "LayoutView",
       "align_content": null,
       "align_items": null,
       "align_self": null,
       "border": null,
       "bottom": null,
       "display": null,
       "flex": null,
       "flex_flow": null,
       "grid_area": null,
       "grid_auto_columns": null,
       "grid_auto_flow": null,
       "grid_auto_rows": null,
       "grid_column": null,
       "grid_gap": null,
       "grid_row": null,
       "grid_template_areas": null,
       "grid_template_columns": null,
       "grid_template_rows": null,
       "height": null,
       "justify_content": null,
       "justify_items": null,
       "left": null,
       "margin": null,
       "max_height": null,
       "max_width": null,
       "min_height": null,
       "min_width": null,
       "object_fit": null,
       "object_position": null,
       "order": null,
       "overflow": null,
       "overflow_x": null,
       "overflow_y": null,
       "padding": null,
       "right": null,
       "top": null,
       "visibility": null,
       "width": null
      }
     },
     "2df8ea33676c45abb6c4ba6ba0f715cc": {
      "model_module": "@jupyter-widgets/base",
      "model_module_version": "1.2.0",
      "model_name": "LayoutModel",
      "state": {
       "_model_module": "@jupyter-widgets/base",
       "_model_module_version": "1.2.0",
       "_model_name": "LayoutModel",
       "_view_count": null,
       "_view_module": "@jupyter-widgets/base",
       "_view_module_version": "1.2.0",
       "_view_name": "LayoutView",
       "align_content": null,
       "align_items": null,
       "align_self": null,
       "border": null,
       "bottom": null,
       "display": null,
       "flex": null,
       "flex_flow": null,
       "grid_area": null,
       "grid_auto_columns": null,
       "grid_auto_flow": null,
       "grid_auto_rows": null,
       "grid_column": null,
       "grid_gap": null,
       "grid_row": null,
       "grid_template_areas": null,
       "grid_template_columns": null,
       "grid_template_rows": null,
       "height": null,
       "justify_content": null,
       "justify_items": null,
       "left": null,
       "margin": null,
       "max_height": null,
       "max_width": null,
       "min_height": null,
       "min_width": null,
       "object_fit": null,
       "object_position": null,
       "order": null,
       "overflow": null,
       "overflow_x": null,
       "overflow_y": null,
       "padding": null,
       "right": null,
       "top": null,
       "visibility": null,
       "width": null
      }
     },
     "335ddba46e624b6db85913ec3b30d5c7": {
      "model_module": "@jupyter-widgets/controls",
      "model_module_version": "1.5.0",
      "model_name": "HTMLModel",
      "state": {
       "_dom_classes": [],
       "_model_module": "@jupyter-widgets/controls",
       "_model_module_version": "1.5.0",
       "_model_name": "HTMLModel",
       "_view_count": null,
       "_view_module": "@jupyter-widgets/controls",
       "_view_module_version": "1.5.0",
       "_view_name": "HTMLView",
       "description": "",
       "description_tooltip": null,
       "layout": "IPY_MODEL_953e71aa302a4d3d921315440b348026",
       "placeholder": "​",
       "style": "IPY_MODEL_93a329b8f77645fdb121643197b2129e",
       "value": " 536M/536M [00:18&lt;00:00, 28.6MB/s]"
      }
     },
     "42f266cbe793415e91cd0867e9ab79e3": {
      "model_module": "@jupyter-widgets/controls",
      "model_module_version": "1.5.0",
      "model_name": "DescriptionStyleModel",
      "state": {
       "_model_module": "@jupyter-widgets/controls",
       "_model_module_version": "1.5.0",
       "_model_name": "DescriptionStyleModel",
       "_view_count": null,
       "_view_module": "@jupyter-widgets/base",
       "_view_module_version": "1.2.0",
       "_view_name": "StyleView",
       "description_width": ""
      }
     },
     "4ec5be473d474ffeae9422a950087b7e": {
      "model_module": "@jupyter-widgets/controls",
      "model_module_version": "1.5.0",
      "model_name": "ProgressStyleModel",
      "state": {
       "_model_module": "@jupyter-widgets/controls",
       "_model_module_version": "1.5.0",
       "_model_name": "ProgressStyleModel",
       "_view_count": null,
       "_view_module": "@jupyter-widgets/base",
       "_view_module_version": "1.2.0",
       "_view_name": "StyleView",
       "bar_color": null,
       "description_width": "initial"
      }
     },
     "522d26bcd52d42efa2fd8292b17934fb": {
      "model_module": "@jupyter-widgets/controls",
      "model_module_version": "1.5.0",
      "model_name": "HBoxModel",
      "state": {
       "_dom_classes": [],
       "_model_module": "@jupyter-widgets/controls",
       "_model_module_version": "1.5.0",
       "_model_name": "HBoxModel",
       "_view_count": null,
       "_view_module": "@jupyter-widgets/controls",
       "_view_module_version": "1.5.0",
       "_view_name": "HBoxView",
       "box_style": "",
       "children": [
        "IPY_MODEL_5c30980fa9f14b488edd9f03385f8f94",
        "IPY_MODEL_c54a05b08fb34eefb5ff047a1bf38bfc"
       ],
       "layout": "IPY_MODEL_2df8ea33676c45abb6c4ba6ba0f715cc"
      }
     },
     "54347869fdf04a469a51b285fe9690ba": {
      "model_module": "@jupyter-widgets/base",
      "model_module_version": "1.2.0",
      "model_name": "LayoutModel",
      "state": {
       "_model_module": "@jupyter-widgets/base",
       "_model_module_version": "1.2.0",
       "_model_name": "LayoutModel",
       "_view_count": null,
       "_view_module": "@jupyter-widgets/base",
       "_view_module_version": "1.2.0",
       "_view_name": "LayoutView",
       "align_content": null,
       "align_items": null,
       "align_self": null,
       "border": null,
       "bottom": null,
       "display": null,
       "flex": null,
       "flex_flow": null,
       "grid_area": null,
       "grid_auto_columns": null,
       "grid_auto_flow": null,
       "grid_auto_rows": null,
       "grid_column": null,
       "grid_gap": null,
       "grid_row": null,
       "grid_template_areas": null,
       "grid_template_columns": null,
       "grid_template_rows": null,
       "height": null,
       "justify_content": null,
       "justify_items": null,
       "left": null,
       "margin": null,
       "max_height": null,
       "max_width": null,
       "min_height": null,
       "min_width": null,
       "object_fit": null,
       "object_position": null,
       "order": null,
       "overflow": null,
       "overflow_x": null,
       "overflow_y": null,
       "padding": null,
       "right": null,
       "top": null,
       "visibility": null,
       "width": null
      }
     },
     "59ef493f007448ecbd9e32fec4501773": {
      "model_module": "@jupyter-widgets/base",
      "model_module_version": "1.2.0",
      "model_name": "LayoutModel",
      "state": {
       "_model_module": "@jupyter-widgets/base",
       "_model_module_version": "1.2.0",
       "_model_name": "LayoutModel",
       "_view_count": null,
       "_view_module": "@jupyter-widgets/base",
       "_view_module_version": "1.2.0",
       "_view_name": "LayoutView",
       "align_content": null,
       "align_items": null,
       "align_self": null,
       "border": null,
       "bottom": null,
       "display": null,
       "flex": null,
       "flex_flow": null,
       "grid_area": null,
       "grid_auto_columns": null,
       "grid_auto_flow": null,
       "grid_auto_rows": null,
       "grid_column": null,
       "grid_gap": null,
       "grid_row": null,
       "grid_template_areas": null,
       "grid_template_columns": null,
       "grid_template_rows": null,
       "height": null,
       "justify_content": null,
       "justify_items": null,
       "left": null,
       "margin": null,
       "max_height": null,
       "max_width": null,
       "min_height": null,
       "min_width": null,
       "object_fit": null,
       "object_position": null,
       "order": null,
       "overflow": null,
       "overflow_x": null,
       "overflow_y": null,
       "padding": null,
       "right": null,
       "top": null,
       "visibility": null,
       "width": null
      }
     },
     "5c30980fa9f14b488edd9f03385f8f94": {
      "model_module": "@jupyter-widgets/controls",
      "model_module_version": "1.5.0",
      "model_name": "FloatProgressModel",
      "state": {
       "_dom_classes": [],
       "_model_module": "@jupyter-widgets/controls",
       "_model_module_version": "1.5.0",
       "_model_name": "FloatProgressModel",
       "_view_count": null,
       "_view_module": "@jupyter-widgets/controls",
       "_view_module_version": "1.5.0",
       "_view_name": "ProgressView",
       "bar_style": "success",
       "description": "Downloading: 100%",
       "description_tooltip": null,
       "layout": "IPY_MODEL_24fc74206b674d1982cb11c9e0d357da",
       "max": 231508.0,
       "min": 0.0,
       "orientation": "horizontal",
       "style": "IPY_MODEL_d4d59f6371424359a4db64d8f73a1635",
       "value": 231508.0
      }
     },
     "62e35ce623c8495399fbc436bd3d8c66": {
      "model_module": "@jupyter-widgets/controls",
      "model_module_version": "1.5.0",
      "model_name": "DescriptionStyleModel",
      "state": {
       "_model_module": "@jupyter-widgets/controls",
       "_model_module_version": "1.5.0",
       "_model_name": "DescriptionStyleModel",
       "_view_count": null,
       "_view_module": "@jupyter-widgets/base",
       "_view_module_version": "1.2.0",
       "_view_name": "StyleView",
       "description_width": ""
      }
     },
     "8f4a8e02cc5f432a94451066a6f5748a": {
      "model_module": "@jupyter-widgets/controls",
      "model_module_version": "1.5.0",
      "model_name": "FloatProgressModel",
      "state": {
       "_dom_classes": [],
       "_model_module": "@jupyter-widgets/controls",
       "_model_module_version": "1.5.0",
       "_model_name": "FloatProgressModel",
       "_view_count": null,
       "_view_module": "@jupyter-widgets/controls",
       "_view_module_version": "1.5.0",
       "_view_name": "ProgressView",
       "bar_style": "success",
       "description": "Downloading: 100%",
       "description_tooltip": null,
       "layout": "IPY_MODEL_12da670313474849b68e66f810f75ba8",
       "max": 536063208.0,
       "min": 0.0,
       "orientation": "horizontal",
       "style": "IPY_MODEL_4ec5be473d474ffeae9422a950087b7e",
       "value": 536063208.0
      }
     },
     "93a329b8f77645fdb121643197b2129e": {
      "model_module": "@jupyter-widgets/controls",
      "model_module_version": "1.5.0",
      "model_name": "DescriptionStyleModel",
      "state": {
       "_model_module": "@jupyter-widgets/controls",
       "_model_module_version": "1.5.0",
       "_model_name": "DescriptionStyleModel",
       "_view_count": null,
       "_view_module": "@jupyter-widgets/base",
       "_view_module_version": "1.2.0",
       "_view_name": "StyleView",
       "description_width": ""
      }
     },
     "953e71aa302a4d3d921315440b348026": {
      "model_module": "@jupyter-widgets/base",
      "model_module_version": "1.2.0",
      "model_name": "LayoutModel",
      "state": {
       "_model_module": "@jupyter-widgets/base",
       "_model_module_version": "1.2.0",
       "_model_name": "LayoutModel",
       "_view_count": null,
       "_view_module": "@jupyter-widgets/base",
       "_view_module_version": "1.2.0",
       "_view_name": "LayoutView",
       "align_content": null,
       "align_items": null,
       "align_self": null,
       "border": null,
       "bottom": null,
       "display": null,
       "flex": null,
       "flex_flow": null,
       "grid_area": null,
       "grid_auto_columns": null,
       "grid_auto_flow": null,
       "grid_auto_rows": null,
       "grid_column": null,
       "grid_gap": null,
       "grid_row": null,
       "grid_template_areas": null,
       "grid_template_columns": null,
       "grid_template_rows": null,
       "height": null,
       "justify_content": null,
       "justify_items": null,
       "left": null,
       "margin": null,
       "max_height": null,
       "max_width": null,
       "min_height": null,
       "min_width": null,
       "object_fit": null,
       "object_position": null,
       "order": null,
       "overflow": null,
       "overflow_x": null,
       "overflow_y": null,
       "padding": null,
       "right": null,
       "top": null,
       "visibility": null,
       "width": null
      }
     },
     "987655d1aa3845428171c243d1b2696d": {
      "model_module": "@jupyter-widgets/controls",
      "model_module_version": "1.5.0",
      "model_name": "FloatProgressModel",
      "state": {
       "_dom_classes": [],
       "_model_module": "@jupyter-widgets/controls",
       "_model_module_version": "1.5.0",
       "_model_name": "FloatProgressModel",
       "_view_count": null,
       "_view_module": "@jupyter-widgets/controls",
       "_view_module_version": "1.5.0",
       "_view_name": "ProgressView",
       "bar_style": "success",
       "description": "Downloading: 100%",
       "description_tooltip": null,
       "layout": "IPY_MODEL_055710b19f8a4748a57d635d9690a9c2",
       "max": 433.0,
       "min": 0.0,
       "orientation": "horizontal",
       "style": "IPY_MODEL_11c203ae5f4a41ab8f22c899933c5700",
       "value": 433.0
      }
     },
     "aceae43f57d448eeb508c5a86a633de6": {
      "model_module": "@jupyter-widgets/controls",
      "model_module_version": "1.5.0",
      "model_name": "HBoxModel",
      "state": {
       "_dom_classes": [],
       "_model_module": "@jupyter-widgets/controls",
       "_model_module_version": "1.5.0",
       "_model_name": "HBoxModel",
       "_view_count": null,
       "_view_module": "@jupyter-widgets/controls",
       "_view_module_version": "1.5.0",
       "_view_name": "HBoxView",
       "box_style": "",
       "children": [
        "IPY_MODEL_8f4a8e02cc5f432a94451066a6f5748a",
        "IPY_MODEL_335ddba46e624b6db85913ec3b30d5c7"
       ],
       "layout": "IPY_MODEL_01bbb38e55c94814a29c63a1efb1c8f3"
      }
     },
     "c54a05b08fb34eefb5ff047a1bf38bfc": {
      "model_module": "@jupyter-widgets/controls",
      "model_module_version": "1.5.0",
      "model_name": "HTMLModel",
      "state": {
       "_dom_classes": [],
       "_model_module": "@jupyter-widgets/controls",
       "_model_module_version": "1.5.0",
       "_model_name": "HTMLModel",
       "_view_count": null,
       "_view_module": "@jupyter-widgets/controls",
       "_view_module_version": "1.5.0",
       "_view_name": "HTMLView",
       "description": "",
       "description_tooltip": null,
       "layout": "IPY_MODEL_54347869fdf04a469a51b285fe9690ba",
       "placeholder": "​",
       "style": "IPY_MODEL_62e35ce623c8495399fbc436bd3d8c66",
       "value": " 232k/232k [00:41&lt;00:00, 5.53kB/s]"
      }
     },
     "cba6c1e609644c43933f6168ed4eeabd": {
      "model_module": "@jupyter-widgets/controls",
      "model_module_version": "1.5.0",
      "model_name": "HTMLModel",
      "state": {
       "_dom_classes": [],
       "_model_module": "@jupyter-widgets/controls",
       "_model_module_version": "1.5.0",
       "_model_name": "HTMLModel",
       "_view_count": null,
       "_view_module": "@jupyter-widgets/controls",
       "_view_module_version": "1.5.0",
       "_view_name": "HTMLView",
       "description": "",
       "description_tooltip": null,
       "layout": "IPY_MODEL_ce001a40f24d4c99898bf0cb1bfdc07f",
       "placeholder": "​",
       "style": "IPY_MODEL_42f266cbe793415e91cd0867e9ab79e3",
       "value": " 433/433 [00:00&lt;00:00, 567B/s]"
      }
     },
     "ce001a40f24d4c99898bf0cb1bfdc07f": {
      "model_module": "@jupyter-widgets/base",
      "model_module_version": "1.2.0",
      "model_name": "LayoutModel",
      "state": {
       "_model_module": "@jupyter-widgets/base",
       "_model_module_version": "1.2.0",
       "_model_name": "LayoutModel",
       "_view_count": null,
       "_view_module": "@jupyter-widgets/base",
       "_view_module_version": "1.2.0",
       "_view_name": "LayoutView",
       "align_content": null,
       "align_items": null,
       "align_self": null,
       "border": null,
       "bottom": null,
       "display": null,
       "flex": null,
       "flex_flow": null,
       "grid_area": null,
       "grid_auto_columns": null,
       "grid_auto_flow": null,
       "grid_auto_rows": null,
       "grid_column": null,
       "grid_gap": null,
       "grid_row": null,
       "grid_template_areas": null,
       "grid_template_columns": null,
       "grid_template_rows": null,
       "height": null,
       "justify_content": null,
       "justify_items": null,
       "left": null,
       "margin": null,
       "max_height": null,
       "max_width": null,
       "min_height": null,
       "min_width": null,
       "object_fit": null,
       "object_position": null,
       "order": null,
       "overflow": null,
       "overflow_x": null,
       "overflow_y": null,
       "padding": null,
       "right": null,
       "top": null,
       "visibility": null,
       "width": null
      }
     },
     "d4d59f6371424359a4db64d8f73a1635": {
      "model_module": "@jupyter-widgets/controls",
      "model_module_version": "1.5.0",
      "model_name": "ProgressStyleModel",
      "state": {
       "_model_module": "@jupyter-widgets/controls",
       "_model_module_version": "1.5.0",
       "_model_name": "ProgressStyleModel",
       "_view_count": null,
       "_view_module": "@jupyter-widgets/base",
       "_view_module_version": "1.2.0",
       "_view_name": "StyleView",
       "bar_color": null,
       "description_width": "initial"
      }
     }
    },
    "version_major": 2,
    "version_minor": 0
   }
  }
 },
 "nbformat": 4,
 "nbformat_minor": 4
}
